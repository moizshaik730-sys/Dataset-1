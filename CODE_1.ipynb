{
  "nbformat": 4,
  "nbformat_minor": 0,
  "metadata": {
    "colab": {
      "provenance": [],
      "authorship_tag": "ABX9TyP/9/G/m5XHODOPnsdJK5XT",
      "include_colab_link": true
    },
    "kernelspec": {
      "name": "python3",
      "display_name": "Python 3"
    },
    "language_info": {
      "name": "python"
    }
  },
  "cells": [
    {
      "cell_type": "markdown",
      "metadata": {
        "id": "view-in-github",
        "colab_type": "text"
      },
      "source": [
        "<a href=\"https://colab.research.google.com/github/moizshaik730-sys/Dataset-1/blob/main/CODE_1.ipynb\" target=\"_parent\"><img src=\"https://colab.research.google.com/assets/colab-badge.svg\" alt=\"Open In Colab\"/></a>"
      ]
    },
    {
      "cell_type": "code",
      "execution_count": 1,
      "metadata": {
        "colab": {
          "base_uri": "https://localhost:8080/",
          "height": 997
        },
        "id": "7UD3Hpd7nA7e",
        "outputId": "9a690d4d-86b5-4e80-f282-3f27d9cbbfd9"
      },
      "outputs": [
        {
          "output_type": "stream",
          "name": "stdout",
          "text": [
            "✅ Data Loaded Successfully!\n",
            "Shape: (10000, 4)\n",
            "Columns: ['flags', 'utterance', 'category', 'intent']\n",
            "    flags                                        utterance category  \\\n",
            "0     BLQ          help me modifying the last order i made    ORDER   \n",
            "1    BILP   could you help me to change a purchase I made?    ORDER   \n",
            "2     BLQ                  help changing a purchase i made    ORDER   \n",
            "3     BLQ          need help updating an order I have made    ORDER   \n",
            "4  BILMPQ  could ya help me to swap some items of an order    ORDER   \n",
            "\n",
            "         intent  \n",
            "0  change_order  \n",
            "1  change_order  \n",
            "2  change_order  \n",
            "3  change_order  \n",
            "4  change_order  \n",
            "\n",
            "📊 Class distribution after combining:\n",
            "intent\n",
            "change_order    10000\n",
            "other           10000\n",
            "Name: count, dtype: int64\n",
            "\n",
            "✅ Accuracy: 0.9992\n",
            "Classification Report:\n",
            "               precision    recall  f1-score   support\n",
            "\n",
            "change_order       1.00      1.00      1.00      2000\n",
            "       other       1.00      1.00      1.00      2000\n",
            "\n",
            "    accuracy                           1.00      4000\n",
            "   macro avg       1.00      1.00      1.00      4000\n",
            "weighted avg       1.00      1.00      1.00      4000\n",
            "\n"
          ]
        },
        {
          "output_type": "display_data",
          "data": {
            "text/plain": [
              "<Figure size 600x400 with 2 Axes>"
            ],
            "image/png": "[encoded data removed]"
          },
          "metadata": {}
        }
      ],
      "source": [
        "import pandas as pd\n",
        "import numpy as np\n",
        "from sklearn.model_selection import train_test_split\n",
        "from sklearn.feature_extraction.text import TfidfVectorizer\n",
        "from sklearn.linear_model import LogisticRegression\n",
        "from sklearn.metrics import accuracy_score, classification_report, confusion_matrix\n",
        "import seaborn as sns\n",
        "import matplotlib.pyplot as plt\n",
        "\n",
        "# ==============================\n",
        "# 1️⃣ Load Dataset\n",
        "# ==============================\n",
        "df = pd.read_excel(\"/content/Dataset - 1.xlsx\")\n",
        "\n",
        "print(\"✅ Data Loaded Successfully!\")\n",
        "print(\"Shape:\", df.shape)\n",
        "print(\"Columns:\", df.columns.tolist())\n",
        "print(df.head())\n",
        "\n",
        "# ==============================\n",
        "# 2️⃣ Create Binary Dataset\n",
        "# ==============================\n",
        "text_col = 'utterance'\n",
        "label_col = 'intent'\n",
        "\n",
        "# Keep only the real utterances\n",
        "df = df.dropna(subset=[text_col])\n",
        "\n",
        "# Create fake \"other\" utterances (for demo only)\n",
        "fake_texts = [\n",
        "    \"What's the weather today?\",\n",
        "    \"Book a flight for me.\",\n",
        "    \"Tell me a joke.\",\n",
        "    \"Play some music.\",\n",
        "    \"Set a reminder for 5 PM.\",\n",
        "    \"Turn on the lights.\",\n",
        "    \"What's your name?\",\n",
        "    \"Translate hello to Spanish.\",\n",
        "    \"How are you?\",\n",
        "    \"Open Google.\"\n",
        "] * 1000  # make ~10k samples\n",
        "\n",
        "# Combine both\n",
        "df_fake = pd.DataFrame({text_col: fake_texts[:len(df)], label_col: \"other\"})\n",
        "df_combined = pd.concat([df, df_fake], ignore_index=True)\n",
        "\n",
        "print(\"\\n📊 Class distribution after combining:\")\n",
        "print(df_combined[label_col].value_counts())\n",
        "\n",
        "# ==============================\n",
        "# 3️⃣ Prepare Data\n",
        "# ==============================\n",
        "X = df_combined[text_col]\n",
        "y = df_combined[label_col]\n",
        "\n",
        "X_train, X_test, y_train, y_test = train_test_split(\n",
        "    X, y, test_size=0.2, random_state=42, stratify=y\n",
        ")\n",
        "\n",
        "# ==============================\n",
        "# 4️⃣ TF-IDF Vectorization\n",
        "# ==============================\n",
        "vectorizer = TfidfVectorizer(stop_words='english', max_features=5000)\n",
        "X_train_vec = vectorizer.fit_transform(X_train)\n",
        "X_test_vec = vectorizer.transform(X_test)\n",
        "\n",
        "# ==============================\n",
        "# 5️⃣ Train Model\n",
        "# ==============================\n",
        "model = LogisticRegression(max_iter=1000)\n",
        "model.fit(X_train_vec, y_train)\n",
        "y_pred = model.predict(X_test_vec)\n",
        "\n",
        "# ==============================\n",
        "# 6️⃣ Evaluate\n",
        "# ==============================\n",
        "acc = accuracy_score(y_test, y_pred)\n",
        "print(f\"\\n✅ Accuracy: {acc:.4f}\")\n",
        "print(\"Classification Report:\\n\", classification_report(y_test, y_pred))\n",
        "\n",
        "plt.figure(figsize=(6,4))\n",
        "sns.heatmap(confusion_matrix(y_test, y_pred), annot=True, fmt='d', cmap='Blues')\n",
        "plt.title(\"Confusion Matrix\")\n",
        "plt.xlabel('Predicted')\n",
        "plt.ylabel('True')\n",
        "plt.tight_layout()\n",
        "plt.show()\n"
      ]
    }
  ]
}